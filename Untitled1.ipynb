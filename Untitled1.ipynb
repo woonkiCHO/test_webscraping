{
 "cells": [
  {
   "cell_type": "code",
   "execution_count": 1,
   "metadata": {},
   "outputs": [],
   "source": [
    "from selenium import webdriver"
   ]
  },
  {
   "cell_type": "code",
   "execution_count": 2,
   "metadata": {},
   "outputs": [
    {
     "name": "stdout",
     "output_type": "stream",
     "text": [
      " C 드라이브의 볼륨에는 이름이 없습니다.\n",
      " 볼륨 일련 번호: 9A7B-3A14\n",
      "\n",
      " C:\\Develops 디렉터리\n",
      "\n",
      "2021-06-25  오전 09:48        11,107,328 chromedriver.exe\n",
      "               1개 파일          11,107,328 바이트\n",
      "               0개 디렉터리  90,660,134,912 바이트 남음\n"
     ]
    }
   ],
   "source": [
    "!dir C:\\Develops\\chromedriver.exe"
   ]
  },
  {
   "cell_type": "code",
   "execution_count": 3,
   "metadata": {},
   "outputs": [],
   "source": [
    "browser = webdriver.Chrome('C:\\Develops\\chromedriver.exe')"
   ]
  },
  {
   "cell_type": "code",
   "execution_count": 4,
   "metadata": {},
   "outputs": [],
   "source": [
    "browser.get('http://ticket.interpark.com/Contents/Ranking?smid1=s_menu&smid2=performance')"
   ]
  },
  {
   "cell_type": "code",
   "execution_count": 5,
   "metadata": {},
   "outputs": [],
   "source": [
    "html = browser.page_source"
   ]
  },
  {
   "cell_type": "code",
   "execution_count": 6,
   "metadata": {},
   "outputs": [],
   "source": [
    "from bs4 import BeautifulSoup"
   ]
  },
  {
   "cell_type": "code",
   "execution_count": 7,
   "metadata": {},
   "outputs": [],
   "source": [
    "Soup = BeautifulSoup(html, 'html.parser')"
   ]
  },
  {
   "cell_type": "code",
   "execution_count": 8,
   "metadata": {},
   "outputs": [
    {
     "data": {
      "text/plain": [
       "(1, bs4.BeautifulSoup)"
      ]
     },
     "execution_count": 8,
     "metadata": {},
     "output_type": "execute_result"
    }
   ],
   "source": [
    "len(Soup), type(Soup)"
   ]
  },
  {
   "cell_type": "code",
   "execution_count": 13,
   "metadata": {},
   "outputs": [],
   "source": [
    "tags = Soup.select('div.items')"
   ]
  },
  {
   "cell_type": "code",
   "execution_count": 15,
   "metadata": {},
   "outputs": [
    {
     "data": {
      "text/plain": [
       "(40, list)"
      ]
     },
     "execution_count": 15,
     "metadata": {},
     "output_type": "execute_result"
    }
   ],
   "source": [
    "len(tags), type(tags)"
   ]
  },
  {
   "cell_type": "code",
   "execution_count": 16,
   "metadata": {},
   "outputs": [],
   "source": [
    "tag = tags[0]"
   ]
  },
  {
   "cell_type": "code",
   "execution_count": 18,
   "metadata": {},
   "outputs": [
    {
     "data": {
      "text/plain": [
       "(0, list)"
      ]
     },
     "execution_count": 18,
     "metadata": {},
     "output_type": "execute_result"
    }
   ],
   "source": [
    "Name = tag.select('prdName')\n",
    "len(Name), type(Name)"
   ]
  },
  {
   "cell_type": "code",
   "execution_count": 28,
   "metadata": {},
   "outputs": [
    {
     "data": {
      "text/plain": [
       "<div class=\"items\"><ul> <li>\n",
       "<div class=\"percentage\">\n",
       "<ul class=\"nums\">\n",
       "<li class=\"num num2\"></li>\n",
       "<li class=\"num dot\"></li>\n",
       "<li class=\"num num3\"></li>\n",
       "<li class=\"num percent\"></li>\n",
       "</ul>\n",
       "<a href=\"javascript:;\" onclick=\"Go('21003166', 'Y', ''); \"><img alt=\"\" src=\"http://ticketimage.interpark.com/TicketImage/2016/20160308_ranking/main/img/buyBtn.gif\"/></a>\n",
       "</div>\n",
       "<a class=\"prdImg\" href=\"javascript:;\" onclick=\"Go('21003166', 'Y', ''); \" style=\"display:block\"><span class=\"flag \">11</span><img alt=\"\" onerror=\" this.src = 'http://ticketimage.interpark.com/Play/image/large/NoImage.gif'; \" src=\"http://ticketimage.interpark.com/Play/image/large/21/21003166_p.gif\"/></a>\n",
       "<a class=\"prdName\" href=\"javascript:;\" onclick=\"Go('21003166', 'Y', ''); \">뮤지컬 〈라 레볼뤼시옹〉</a>\n",
       "<a class=\"prdDuration\" href=\"javascript:;\" onclick=\"Go('21003166', 'Y', ''); \">05.18~08.01</a>\n",
       "</li>\n",
       "<li>\n",
       "<div class=\"percentage\">\n",
       "<ul class=\"nums\">\n",
       "<li class=\"num num2\"></li>\n",
       "<li class=\"num dot\"></li>\n",
       "<li class=\"num num1\"></li>\n",
       "<li class=\"num percent\"></li>\n",
       "</ul>\n",
       "<a href=\"javascript:;\" onclick=\"Go('21000206', 'Y', ''); \"><img alt=\"\" src=\"http://ticketimage.interpark.com/TicketImage/2016/20160308_ranking/main/img/buyBtn.gif\"/></a>\n",
       "</div>\n",
       "<a class=\"prdImg\" href=\"javascript:;\" onclick=\"Go('21000206', 'Y', ''); \" style=\"display:block\"><span class=\"flag \">12</span><img alt=\"\" onerror=\" this.src = 'http://ticketimage.interpark.com/Play/image/large/NoImage.gif'; \" src=\"http://ticketimage.interpark.com/Play/image/large/21/21000206_p.gif\"/></a>\n",
       "<a class=\"prdName\" href=\"javascript:;\" onclick=\"Go('21000206', 'Y', ''); \">뮤지컬 〈팬텀〉</a>\n",
       "<a class=\"prdDuration\" href=\"javascript:;\" onclick=\"Go('21000206', 'Y', ''); \">03.17~06.27</a>\n",
       "</li>\n",
       "<li>\n",
       "<div class=\"percentage\">\n",
       "<ul class=\"nums\">\n",
       "<li class=\"num num1\"></li>\n",
       "<li class=\"num dot\"></li>\n",
       "<li class=\"num num8\"></li>\n",
       "<li class=\"num percent\"></li>\n",
       "</ul>\n",
       "<a href=\"javascript:;\" onclick=\"Go('21004531', 'Y', ''); \"><img alt=\"\" src=\"http://ticketimage.interpark.com/TicketImage/2016/20160308_ranking/main/img/buyBtn.gif\"/></a>\n",
       "</div>\n",
       "<a class=\"prdImg\" href=\"javascript:;\" onclick=\"Go('21004531', 'Y', ''); \" style=\"display:block\"><span class=\"flag \">13</span><img alt=\"\" onerror=\" this.src = 'http://ticketimage.interpark.com/Play/image/large/NoImage.gif'; \" src=\"http://ticketimage.interpark.com/Play/image/large/21/21004531_p.gif\"/></a>\n",
       "<a class=\"prdName\" href=\"javascript:;\" onclick=\"Go('21004531', 'Y', ''); \">뮤지컬 〈스프링 어웨이크닝〉</a>\n",
       "<a class=\"prdDuration\" href=\"javascript:;\" onclick=\"Go('21004531', 'Y', ''); \">07.08~10.03</a>\n",
       "</li>\n",
       "<li>\n",
       "<div class=\"percentage\">\n",
       "<ul class=\"nums\">\n",
       "<li class=\"num num1\"></li>\n",
       "<li class=\"num dot\"></li>\n",
       "<li class=\"num num5\"></li>\n",
       "<li class=\"num percent\"></li>\n",
       "</ul>\n",
       "<a href=\"javascript:;\" onclick=\"Go('21002454', 'Y', ''); \"><img alt=\"\" src=\"http://ticketimage.interpark.com/TicketImage/2016/20160308_ranking/main/img/buyBtn.gif\"/></a>\n",
       "</div>\n",
       "<a class=\"prdImg\" href=\"javascript:;\" onclick=\"Go('21002454', 'Y', ''); \" style=\"display:block\"><span class=\"flag \">14</span><img alt=\"\" onerror=\" this.src = 'http://ticketimage.interpark.com/Play/image/large/NoImage.gif'; \" src=\"http://ticketimage.interpark.com/Play/image/large/21/21002454_p.gif\"/></a>\n",
       "<a class=\"prdName\" href=\"javascript:;\" onclick=\"Go('21002454', 'Y', ''); \">뮤지컬 〈위키드〉 - 부산 초연 (Musical Wicked)</a>\n",
       "<a class=\"prdDuration\" href=\"javascript:;\" onclick=\"Go('21002454', 'Y', ''); \">05.20~06.27</a>\n",
       "</li>\n",
       "<li>\n",
       "<div class=\"percentage\">\n",
       "<ul class=\"nums\">\n",
       "<li class=\"num num1\"></li>\n",
       "<li class=\"num dot\"></li>\n",
       "<li class=\"num num5\"></li>\n",
       "<li class=\"num percent\"></li>\n",
       "</ul>\n",
       "<a href=\"javascript:;\" onclick=\"Go('21003130', 'Y', ''); \"><img alt=\"\" src=\"http://ticketimage.interpark.com/TicketImage/2016/20160308_ranking/main/img/buyBtn.gif\"/></a>\n",
       "</div>\n",
       "<a class=\"prdImg\" href=\"javascript:;\" onclick=\"Go('21003130', 'Y', ''); \" style=\"display:block\"><span class=\"flag \">14</span><img alt=\"\" onerror=\" this.src = 'http://ticketimage.interpark.com/Play/image/large/NoImage.gif'; \" src=\"http://ticketimage.interpark.com/Play/image/large/21/21003130_p.gif\"/></a>\n",
       "<a class=\"prdName\" href=\"javascript:;\" onclick=\"Go('21003130', 'Y', ''); \">2021 뮤지컬 〈마마,돈크라이〉 10+1주년 기념 공연</a>\n",
       "<a class=\"prdDuration\" href=\"javascript:;\" onclick=\"Go('21003130', 'Y', ''); \">05.27~08.22</a>\n",
       "</li>\n",
       "</ul></div>"
      ]
     },
     "execution_count": 28,
     "metadata": {},
     "output_type": "execute_result"
    }
   ],
   "source": [
    "tags[0]"
   ]
  },
  {
   "cell_type": "code",
   "execution_count": null,
   "metadata": {},
   "outputs": [],
   "source": []
  }
 ],
 "metadata": {
  "kernelspec": {
   "display_name": "Python 3",
   "language": "python",
   "name": "python3"
  },
  "language_info": {
   "codemirror_mode": {
    "name": "ipython",
    "version": 3
   },
   "file_extension": ".py",
   "mimetype": "text/x-python",
   "name": "python",
   "nbconvert_exporter": "python",
   "pygments_lexer": "ipython3",
   "version": "3.7.0"
  }
 },
 "nbformat": 4,
 "nbformat_minor": 2
}
